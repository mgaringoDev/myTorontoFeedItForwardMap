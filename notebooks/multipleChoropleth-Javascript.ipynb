{
 "cells": [
  {
   "cell_type": "markdown",
   "metadata": {
    "cellType": "FrontMatter"
   },
   "source": [
    "TAG:{map}\n",
    "\n",
    "DESCRIPTION:{Adding javascript functionality in the exported map and looking into the possibility of adding multiple attributes into one layer using FeatureGroup.}"
   ]
  },
  {
   "cell_type": "code",
   "execution_count": 1,
   "metadata": {},
   "outputs": [],
   "source": [
    "# Import libraries\n",
    "import pandas as pd\n",
    "import folium"
   ]
  },
  {
   "cell_type": "code",
   "execution_count": 2,
   "metadata": {},
   "outputs": [],
   "source": [
    "# Load the shape of the zone (US states)\n",
    "# Find the original file here: https://github.com/python-visualization/folium/tree/master/examples/data\n",
    "# You have to download this file and set the directory where you saved it\n",
    "# state_geo = os.path.join('/Users/y.holtz/Desktop/', 'us-states.json')\n",
    "state_geo = 'C:\\\\Cerebral\\\\_MarioSandBox\\\\Python\\\\projectPage_torontoFeedItForwardMap\\\\git_projectCodes\\\\myTorontoFeedItForwardMap\\\\data\\\\us-states.json'"
   ]
  },
  {
   "cell_type": "code",
   "execution_count": 3,
   "metadata": {},
   "outputs": [],
   "source": [
    "# Load the unemployment value of each state\n",
    "# Find the original file here: https://github.com/python-visualization/folium/tree/master/examples/data\n",
    "state_unemployment = 'C:\\\\Cerebral\\\\_MarioSandBox\\\\Python\\\\projectPage_torontoFeedItForwardMap\\\\git_projectCodes\\\\myTorontoFeedItForwardMap\\\\data\\\\US_Unemployment_Oct2012.csv'\n",
    "#state_unemployment = os.path.join('/Users/y.holtz/Desktop/', 'US_Unemployment_Oct2012.csv')\n",
    "state_data = pd.read_csv(state_unemployment)"
   ]
  },
  {
   "cell_type": "code",
   "execution_count": 24,
   "metadata": {},
   "outputs": [],
   "source": [
    "# Initialize the map:\n",
    "m = folium.Map(location=[37, -102], zoom_start=5)\n",
    "\n",
    "# Add the color for the chloropleth:\n",
    "m.choropleth(\n",
    " geo_data=state_geo,\n",
    " name='choropleth Yellow Green',\n",
    " data=state_data,\n",
    " columns=['State', 'Unemployment'],\n",
    " key_on='feature.id',\n",
    " fill_color='YlGn',\n",
    " fill_opacity=0.7,\n",
    " line_opacity=0.2 \n",
    ")\n",
    "\n",
    "for key in m._children:\n",
    "    if key.startswith('color_map'):\n",
    "        del(m._children[key])\n",
    "        \n",
    "m.choropleth(\n",
    " geo_data=state_geo,\n",
    " name='choropleth Blue',\n",
    " data=state_data,\n",
    " columns=['State', 'Unemployment'],\n",
    " key_on='feature.id',\n",
    " fill_color='BuPu',\n",
    " fill_opacity=0.7,\n",
    " line_opacity=0.2 \n",
    ")\n",
    "\n",
    "\n",
    "change_cursor(m)    \n",
    "folium.LayerControl().add_to(m)\n",
    "m\n",
    "\n",
    "# Save to html\n",
    "m.save('#292_folium_chloropleth_USA1_Hiddenx2.html')"
   ]
  },
  {
   "cell_type": "markdown",
   "metadata": {},
   "source": [
    "Creating a javascript to remove the visibility of the SVG.\n",
    "\n",
    "Currently the legend as an id of \"legend\" so if we create a javascript to add visibility=\"hidden\" then we can hide the legend.  This was found [here](https://gitter.im/python-visualization/folium?at=5c9a6e6436704f6eddd8dac1)"
   ]
  },
  {
   "cell_type": "code",
   "execution_count": 18,
   "metadata": {},
   "outputs": [],
   "source": [
    "def change_cursor(ref_map, cursor_type=\"crosshair\"):\n",
    "    id_map = ref_map.get_name()\n",
    "\n",
    "    script = f'''\n",
    "        <script>\n",
    "        window.onload = () => document.getElementById(\"legend\").style.visibility = 'hidden';\n",
    "        </script>\n",
    "    '''\n",
    "    ref_map.get_root().html.add_child(folium.Element(script))"
   ]
  },
  {
   "cell_type": "code",
   "execution_count": 25,
   "metadata": {},
   "outputs": [],
   "source": [
    "def change_cursor_Class(ref_map, cursor_type=\"crosshair\"):\n",
    "    id_map = ref_map.get_name()\n",
    "\n",
    "    script = f'''\n",
    "        <script>\n",
    "        window.onload = () => document.getElementsByClassName(\"legend leaflet-control\").style.display = none;\n",
    "        </script>\n",
    "    '''\n",
    "    ref_map.get_root().html.add_child(folium.Element(script))"
   ]
  },
  {
   "cell_type": "code",
   "execution_count": 26,
   "metadata": {},
   "outputs": [],
   "source": [
    "# Initialize the map:\n",
    "m = folium.Map(location=[37, -102], zoom_start=5)\n",
    "\n",
    "# Add the color for the chloropleth:\n",
    "m.choropleth(\n",
    " geo_data=state_geo,\n",
    " name='choropleth Yellow Green',\n",
    " data=state_data,\n",
    " columns=['State', 'Unemployment'],\n",
    " key_on='feature.id',\n",
    " fill_color='YlGn',\n",
    " fill_opacity=0.7,\n",
    " line_opacity=0.2 \n",
    ")\n",
    "\n",
    "folium.LayerControl().add_to(m)\n",
    "\n",
    "change_cursor_Class(m)\n",
    "m.save('#292_folium_chloropleth_USA1_Hidden.html')\n"
   ]
  },
  {
   "cell_type": "code",
   "execution_count": null,
   "metadata": {},
   "outputs": [],
   "source": []
  }
 ],
 "metadata": {
  "kernelspec": {
   "display_name": "myDevPy36",
   "language": "python",
   "name": "mydevpy36"
  },
  "language_info": {
   "codemirror_mode": {
    "name": "ipython",
    "version": 3
   },
   "file_extension": ".py",
   "mimetype": "text/x-python",
   "name": "python",
   "nbconvert_exporter": "python",
   "pygments_lexer": "ipython3",
   "version": "3.6.10"
  },
  "latex_envs": {
   "LaTeX_envs_menu_present": true,
   "autoclose": false,
   "autocomplete": true,
   "bibliofile": "biblio.bib",
   "cite_by": "apalike",
   "current_citInitial": 1,
   "eqLabelWithNumbers": true,
   "eqNumInitial": 1,
   "hotkeys": {
    "equation": "Ctrl-E",
    "itemize": "Ctrl-I"
   },
   "labels_anchors": false,
   "latex_user_defs": false,
   "report_style_numbering": false,
   "user_envs_cfg": false
  }
 },
 "nbformat": 4,
 "nbformat_minor": 4
}
